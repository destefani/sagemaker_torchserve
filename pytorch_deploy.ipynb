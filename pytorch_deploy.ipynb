{
 "metadata": {
  "language_info": {
   "codemirror_mode": {
    "name": "ipython",
    "version": 3
   },
   "file_extension": ".py",
   "mimetype": "text/x-python",
   "name": "python",
   "nbconvert_exporter": "python",
   "pygments_lexer": "ipython3",
   "version": "3.7.3-final"
  },
  "orig_nbformat": 2,
  "kernelspec": {
   "name": "python3",
   "display_name": "Python 3.7.3 64-bit ('torchserve')",
   "metadata": {
    "interpreter": {
     "hash": "7b1d0d1acf5f59c330848894a7a9ade6b25ed8c0b27bbf5c4738a65a831f8fd6"
    }
   }
  }
 },
 "nbformat": 4,
 "nbformat_minor": 2,
 "cells": [
  {
   "source": [
    "# Deploy PyTorch Model using SageMaker and TorchServe\n",
    "\n",
    "From the [AWS re:Invent 2020: Deploying PyTorch models for inference using TorchServe](https://www.youtube.com/watch?v=6xaMskcWmXY) talk"
   ],
   "cell_type": "markdown",
   "metadata": {}
  },
  {
   "cell_type": "code",
   "execution_count": null,
   "metadata": {},
   "outputs": [],
   "source": [
    "import boto3\n",
    "import time\n",
    "import json\n",
    "from PIL import Image\n",
    "import numpy as np\n",
    "import sagemaker\n",
    "\n",
    "sess = boto3.Session()\n",
    "sm = sess.client('sagemaker')\n",
    "region = sess.region_name\n",
    "account = boto3.client('sts').get_caller_identity().get('Account')\n",
    "role = sagemaker.get_execution_role()\n",
    "sagemaker_session = sagemaker.Session(boto_session=sess)"
   ]
  },
  {
   "source": [
    "## Download DenseNet161 model from PyTorch model repository"
   ],
   "cell_type": "markdown",
   "metadata": {}
  },
  {
   "cell_type": "code",
   "execution_count": null,
   "metadata": {},
   "outputs": [],
   "source": [
    "!wget -q https://download.pytorch.org/models/densenet161-8d451a50.pth"
   ]
  },
  {
   "source": [
    "# Upload model and request handler file to Amazon S3"
   ],
   "cell_type": "markdown",
   "metadata": {}
  },
  {
   "cell_type": "code",
   "execution_count": null,
   "metadata": {},
   "outputs": [],
   "source": [
    "bucket_name = sagemaker_session.default_bucket()\n",
    "model_file_name = 'densenet161'\n",
    "prefix = 'torchserve'\n",
    "\n",
    "!mv densenet161-8d451a50.pth model.pth\n",
    "!tar cvfz {model_file_name}.tar.gz model.pth model.py"
   ]
  },
  {
   "cell_type": "code",
   "execution_count": null,
   "metadata": {},
   "outputs": [],
   "source": [
    "s3_model_path = sagemaker_session.upload_data(path=f'{model_file_name}.tar.gz', key_) # revise"
   ]
  },
  {
   "cell_type": "code",
   "execution_count": null,
   "metadata": {},
   "outputs": [],
   "source": [
    "s3_model_path"
   ]
  },
  {
   "source": [
    "## Create a PyTorch Model in Amazon SageMaker"
   ],
   "cell_type": "markdown",
   "metadata": {}
  },
  {
   "cell_type": "code",
   "execution_count": null,
   "metadata": {},
   "outputs": [],
   "source": [
    "from sagemaker.pytorch.model import PyTorchPredictor\n",
    "from sagemaker.predictor import Predictor\n",
    "from sagemaker.pytorch import PyTorchModel\n",
    "\n",
    "model = PyTorchModel(model_data=s3_model_path,\n",
    "                     role=role,\n",
    "                     entry_point='model.py',\n",
    "                     framework_version='1.6.0',\n",
    "                     py_version='py3',\n",
    "                     predictor_cls=PyTorchPredictor)"
   ]
  },
  {
   "source": [
    "## Deploy PyTorch Model to NVIDIA T4 using SageMaker model hosting"
   ],
   "cell_type": "markdown",
   "metadata": {}
  },
  {
   "cell_type": "code",
   "execution_count": null,
   "metadata": {},
   "outputs": [],
   "source": [
    "%%time\n",
    "predictor = model.deploy(initial_instance_count=1,\n",
    "                         instance_type='ml.g4dn.xlarge')"
   ]
  },
  {
   "source": [
    "## Test model by generating predictions"
   ],
   "cell_type": "markdown",
   "metadata": {}
  },
  {
   "cell_type": "code",
   "execution_count": null,
   "metadata": {},
   "outputs": [],
   "source": [
    "def image_preprocess(img):\n",
    "    img = img.convert('RGB')\n",
    "    img = np.asarray(img.resize((224,224)))\n",
    "\n",
    "    mean_vec = np.array([0.485, 0.456, 0.406])\n",
    "    stddev_vec = np.array([0.229, 0.224, 0.225])\n",
    "    img = (img / 255 - mean_vec) / stddev_vec\n",
    "\n",
    "    img = np.expand_dims(img, axis=0)\n",
    "    img = np.rollaxis(img, 3, 1)\n",
    "    return img.astype(dtype='float32')"
   ]
  },
  {
   "cell_type": "code",
   "execution_count": null,
   "metadata": {},
   "outputs": [],
   "source": [
    "!wget -q https://s3.amazonaws.com/model-server/inputs/kitten.jpeg\n",
    "\n",
    "img = Image.open('kitten.jpeg')\n",
    "img = image_preprocess(img)\n",
    "\n",
    "response = predictor.predict(data=img)\n",
    "pred = response[0].argsort()[-5:][::-1]\n",
    "\n",
    "with open('imagenet_class_index.json', 'r') as f:\n",
    "    labels = json.load(f)\n",
    "\n",
    "for l in pred:\n",
    "    print(labels[str(l)][1])"
   ]
  }
 ]
}